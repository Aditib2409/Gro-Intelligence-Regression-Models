{
  "cells": [
    {
      "cell_type": "markdown",
      "source": [
        "### Importing the necessary Python Libraries"
      ],
      "metadata": {
        "id": "i0WhpCrSyWi1"
      }
    },
    {
      "cell_type": "code",
      "execution_count": null,
      "metadata": {
        "colab": {
          "base_uri": "https://localhost:8080/"
        },
        "id": "nJXzGmDlXRdf",
        "outputId": "b3bd19c7-66c8-4f7c-a63d-346fedc450d7"
      },
      "outputs": [
        {
          "output_type": "stream",
          "name": "stderr",
          "text": [
            "/usr/local/lib/python3.7/dist-packages/statsmodels/tools/_testing.py:19: FutureWarning: pandas.util.testing is deprecated. Use the functions in the public API at pandas.testing instead.\n",
            "  import pandas.util.testing as tm\n"
          ]
        }
      ],
      "source": [
        "import numpy as np\n",
        "import pandas as pd\n",
        "import matplotlib.pyplot as plt\n",
        "from sklearn.model_selection import train_test_split\n",
        "from sklearn.preprocessing import StandardScaler\n",
        "from sklearn.linear_model import LinearRegression\n",
        "from sklearn.svm import SVR\n",
        "import statsmodels.api as sm\n",
        "from sklearn.metrics import mean_absolute_percentage_error\n",
        "\n",
        "# !unzip \"gro_homework.zip\""
      ]
    },
    {
      "cell_type": "markdown",
      "metadata": {
        "id": "3_k09QefZAyQ"
      },
      "source": [
        "## Data preprocessing using Pandas\n",
        "\n",
        "#### Loading the 'csv' files into pandas dataframes"
      ]
    },
    {
      "cell_type": "code",
      "execution_count": null,
      "metadata": {
        "id": "_7KMRR0FXdE6"
      },
      "outputs": [],
      "source": [
        "df_precipitation = pd.read_csv(\"gro_homework/Daily Precipitation.csv\")\n",
        "df_soilmoisture = pd.read_csv(\"gro_homework/Daily Soil Mositure.csv\")\n",
        "df_temperature = pd.read_csv(\"gro_homework/Daily Temperature.csv\")\n",
        "df_EightdayNDVI = pd.read_csv(\"gro_homework/Eight Day NDVI.csv\")\n",
        "df_production = pd.read_csv(\"gro_homework/Production Quantity.csv\")"
      ]
    },
    {
      "cell_type": "markdown",
      "metadata": {
        "id": "b6HTva64ZYLQ"
      },
      "source": [
        "### Creating a new Dataframe of processed data"
      ]
    },
    {
      "cell_type": "markdown",
      "source": [
        "### Visualizing dataframes"
      ],
      "metadata": {
        "id": "8rFetI7Sylj8"
      }
    },
    {
      "cell_type": "code",
      "execution_count": null,
      "metadata": {
        "colab": {
          "base_uri": "https://localhost:8080/"
        },
        "id": "XYAOowSw12dg",
        "outputId": "e77d3014-e976-4dc9-cc9a-cafbc6cff13a"
      },
      "outputs": [
        {
          "output_type": "stream",
          "name": "stdout",
          "text": [
            "                 start_date                  end_date     precip  region_id\n",
            "0  2014-01-01T00:00:00.000Z  2014-01-01T00:00:00.000Z   1.392393         93\n",
            "1  2014-01-02T00:00:00.000Z  2014-01-02T00:00:00.000Z   0.315380         93\n",
            "2  2014-01-03T00:00:00.000Z  2014-01-03T00:00:00.000Z   2.347846         93\n",
            "3  2014-01-04T00:00:00.000Z  2014-01-04T00:00:00.000Z  21.466357         93\n",
            "4  2014-01-05T00:00:00.000Z  2014-01-05T00:00:00.000Z  32.823651         93\n",
            "                 start_date                  end_date      smos  region_id\n",
            "0  2014-01-01T00:00:00.000Z  2014-01-01T00:00:00.000Z  0.310787         93\n",
            "1  2014-01-02T00:00:00.000Z  2014-01-02T00:00:00.000Z  0.192271         93\n",
            "2  2014-01-03T00:00:00.000Z  2014-01-03T00:00:00.000Z  0.265683         93\n",
            "3  2014-01-04T00:00:00.000Z  2014-01-04T00:00:00.000Z  0.265683         93\n",
            "4  2014-01-05T00:00:00.000Z  2014-01-05T00:00:00.000Z  0.230782         93\n",
            "                 start_date                  end_date       temp  region_id\n",
            "0  2014-01-02T00:00:00.000Z  2014-01-02T00:00:00.000Z  24.707605         93\n",
            "1  2014-01-11T00:00:00.000Z  2014-01-11T00:00:00.000Z  26.421176         93\n",
            "2  2014-01-15T00:00:00.000Z  2014-01-15T00:00:00.000Z  24.305642         93\n",
            "3  2014-01-20T00:00:00.000Z  2014-01-20T00:00:00.000Z  25.142744         93\n",
            "4  2014-01-23T00:00:00.000Z  2014-01-23T00:00:00.000Z  23.653173         93\n",
            "                 start_date                  end_date      ndvi  region_id\n",
            "0  2013-12-27T00:00:00.000Z  2014-01-03T00:00:00.000Z  0.679106         93\n",
            "1  2014-01-01T00:00:00.000Z  2014-01-08T00:00:00.000Z  0.701431         93\n",
            "2  2014-01-09T00:00:00.000Z  2014-01-16T00:00:00.000Z  0.745149         93\n",
            "3  2014-01-17T00:00:00.000Z  2014-01-24T00:00:00.000Z  0.747391         93\n",
            "4  2014-01-25T00:00:00.000Z  2014-02-01T00:00:00.000Z  0.768325         93\n",
            "                 start_date                  end_date    prod  region_id\n",
            "0  2015-01-01T00:00:00.000Z  2015-01-31T00:00:00.000Z  171725         93\n",
            "1  2015-02-01T00:00:00.000Z  2015-02-28T00:00:00.000Z  188325         93\n",
            "2  2015-03-01T00:00:00.000Z  2015-03-31T00:00:00.000Z  247856         93\n",
            "3  2015-04-01T00:00:00.000Z  2015-04-30T00:00:00.000Z  282791         93\n",
            "4  2015-05-01T00:00:00.000Z  2015-05-31T00:00:00.000Z  291057         93\n"
          ]
        }
      ],
      "source": [
        "print(df_precipitation.head(5))\n",
        "print(df_soilmoisture.head(5))\n",
        "print(df_temperature.head(5))\n",
        "print(df_EightdayNDVI.head(5))\n",
        "print(df_production.head(5))"
      ]
    },
    {
      "cell_type": "code",
      "execution_count": null,
      "metadata": {
        "id": "jEoSv5zHXsyr"
      },
      "outputs": [],
      "source": [
        "# Joining the dataframes and resetting the indices\n",
        "new_df = df_precipitation.merge(df_soilmoisture, how=\"left\", left_on=[\"start_date\",\"end_date\", \"region_id\"], right_on=[\"start_date\",\"end_date\", \"region_id\"])\n",
        "new_df = new_df.reset_index(drop=True)"
      ]
    },
    {
      "cell_type": "code",
      "execution_count": null,
      "metadata": {
        "id": "HSmsaRzvXzfe"
      },
      "outputs": [],
      "source": [
        "new_df = new_df.merge(df_temperature, how=\"left\", left_on=[\"start_date\",\"end_date\", \"region_id\"], right_on=[\"start_date\",\"end_date\", \"region_id\"])\n",
        "new_df = new_df.reset_index(drop=True)"
      ]
    },
    {
      "cell_type": "code",
      "execution_count": null,
      "metadata": {
        "id": "5Fgsg125YAFT"
      },
      "outputs": [],
      "source": [
        "new_df = new_df.merge(df_EightdayNDVI, how=\"left\", left_on=[\"start_date\", \"region_id\"], right_on=[\"start_date\", \"region_id\"])\n",
        "new_df = new_df.reset_index(drop=True)"
      ]
    },
    {
      "cell_type": "code",
      "execution_count": null,
      "metadata": {
        "id": "PJbLIZxOYF2_"
      },
      "outputs": [],
      "source": [
        "new_df.drop(columns=[\"end_date_y\"], inplace=True)\n",
        "new_df.rename(columns={\"end_date_x\":\"end_date\"}, inplace=True)"
      ]
    },
    {
      "cell_type": "markdown",
      "source": [
        "### Assumption\n",
        "\n",
        "Assumption1: the soil moisture is dependent on the precipitation value. Meaning, if today it rains, then the soil will be moist and will still be slightly moist for the coming few days. With this I did a 'forward fill'. \n",
        "\n",
        "assumption2: For the temperature, I have considered the mean value over all the days\n",
        "\n",
        "assumption3: For the NDVI value, I have extrapolated the value for all the remaining 7 days for every data entry. "
      ],
      "metadata": {
        "id": "ueBWk4k1zIaw"
      }
    },
    {
      "cell_type": "code",
      "execution_count": null,
      "metadata": {
        "id": "jzlwwxTbYLlc"
      },
      "outputs": [],
      "source": [
        "new_df['smos'] = new_df['smos'].fillna(method='ffill', axis=0).fillna(method='bfill',axis=0)"
      ]
    },
    {
      "cell_type": "code",
      "execution_count": null,
      "metadata": {
        "id": "atUbxYi512di"
      },
      "outputs": [],
      "source": [
        "new_df = new_df.fillna({'temp':new_df['temp'].mean()})"
      ]
    },
    {
      "cell_type": "code",
      "execution_count": null,
      "metadata": {
        "id": "TOrieLo6YY_s"
      },
      "outputs": [],
      "source": [
        "new_df['ndvi'] = new_df['ndvi'].fillna(method='ffill', axis=0)"
      ]
    },
    {
      "cell_type": "code",
      "execution_count": null,
      "metadata": {
        "colab": {
          "base_uri": "https://localhost:8080/"
        },
        "id": "CAxuUn6n12di",
        "outputId": "c11b3974-aa54-4de5-8da3-6b13d50f496b"
      },
      "outputs": [
        {
          "output_type": "execute_result",
          "data": {
            "text/plain": [
              "Index(['start_date', 'end_date', 'precip', 'region_id', 'smos', 'temp',\n",
              "       'ndvi'],\n",
              "      dtype='object')"
            ]
          },
          "metadata": {},
          "execution_count": 316
        }
      ],
      "source": [
        "new_df.columns"
      ]
    },
    {
      "cell_type": "code",
      "execution_count": null,
      "metadata": {
        "id": "34KxOVOuYdRj"
      },
      "outputs": [],
      "source": [
        "new_df = new_df.merge(df_production, how=\"left\", left_on=[\"start_date\", \"region_id\"], right_on=[\"start_date\", \"region_id\"])"
      ]
    },
    {
      "cell_type": "code",
      "execution_count": null,
      "metadata": {
        "colab": {
          "base_uri": "https://localhost:8080/",
          "height": 206
        },
        "id": "dxYSJv6e12dj",
        "outputId": "5e451949-80aa-46a8-f263-05038abdd43f"
      },
      "outputs": [
        {
          "output_type": "execute_result",
          "data": {
            "text/plain": [
              "                 start_date                  end_date    prod  region_id\n",
              "0  2015-01-01T00:00:00.000Z  2015-01-31T00:00:00.000Z  171725         93\n",
              "1  2015-02-01T00:00:00.000Z  2015-02-28T00:00:00.000Z  188325         93\n",
              "2  2015-03-01T00:00:00.000Z  2015-03-31T00:00:00.000Z  247856         93\n",
              "3  2015-04-01T00:00:00.000Z  2015-04-30T00:00:00.000Z  282791         93\n",
              "4  2015-05-01T00:00:00.000Z  2015-05-31T00:00:00.000Z  291057         93"
            ],
            "text/html": [
              "\n",
              "  <div id=\"df-319ef287-b328-4481-9294-dd8449c4db2e\">\n",
              "    <div class=\"colab-df-container\">\n",
              "      <div>\n",
              "<style scoped>\n",
              "    .dataframe tbody tr th:only-of-type {\n",
              "        vertical-align: middle;\n",
              "    }\n",
              "\n",
              "    .dataframe tbody tr th {\n",
              "        vertical-align: top;\n",
              "    }\n",
              "\n",
              "    .dataframe thead th {\n",
              "        text-align: right;\n",
              "    }\n",
              "</style>\n",
              "<table border=\"1\" class=\"dataframe\">\n",
              "  <thead>\n",
              "    <tr style=\"text-align: right;\">\n",
              "      <th></th>\n",
              "      <th>start_date</th>\n",
              "      <th>end_date</th>\n",
              "      <th>prod</th>\n",
              "      <th>region_id</th>\n",
              "    </tr>\n",
              "  </thead>\n",
              "  <tbody>\n",
              "    <tr>\n",
              "      <th>0</th>\n",
              "      <td>2015-01-01T00:00:00.000Z</td>\n",
              "      <td>2015-01-31T00:00:00.000Z</td>\n",
              "      <td>171725</td>\n",
              "      <td>93</td>\n",
              "    </tr>\n",
              "    <tr>\n",
              "      <th>1</th>\n",
              "      <td>2015-02-01T00:00:00.000Z</td>\n",
              "      <td>2015-02-28T00:00:00.000Z</td>\n",
              "      <td>188325</td>\n",
              "      <td>93</td>\n",
              "    </tr>\n",
              "    <tr>\n",
              "      <th>2</th>\n",
              "      <td>2015-03-01T00:00:00.000Z</td>\n",
              "      <td>2015-03-31T00:00:00.000Z</td>\n",
              "      <td>247856</td>\n",
              "      <td>93</td>\n",
              "    </tr>\n",
              "    <tr>\n",
              "      <th>3</th>\n",
              "      <td>2015-04-01T00:00:00.000Z</td>\n",
              "      <td>2015-04-30T00:00:00.000Z</td>\n",
              "      <td>282791</td>\n",
              "      <td>93</td>\n",
              "    </tr>\n",
              "    <tr>\n",
              "      <th>4</th>\n",
              "      <td>2015-05-01T00:00:00.000Z</td>\n",
              "      <td>2015-05-31T00:00:00.000Z</td>\n",
              "      <td>291057</td>\n",
              "      <td>93</td>\n",
              "    </tr>\n",
              "  </tbody>\n",
              "</table>\n",
              "</div>\n",
              "      <button class=\"colab-df-convert\" onclick=\"convertToInteractive('df-319ef287-b328-4481-9294-dd8449c4db2e')\"\n",
              "              title=\"Convert this dataframe to an interactive table.\"\n",
              "              style=\"display:none;\">\n",
              "        \n",
              "  <svg xmlns=\"http://www.w3.org/2000/svg\" height=\"24px\"viewBox=\"0 0 24 24\"\n",
              "       width=\"24px\">\n",
              "    <path d=\"M0 0h24v24H0V0z\" fill=\"none\"/>\n",
              "    <path d=\"M18.56 5.44l.94 2.06.94-2.06 2.06-.94-2.06-.94-.94-2.06-.94 2.06-2.06.94zm-11 1L8.5 8.5l.94-2.06 2.06-.94-2.06-.94L8.5 2.5l-.94 2.06-2.06.94zm10 10l.94 2.06.94-2.06 2.06-.94-2.06-.94-.94-2.06-.94 2.06-2.06.94z\"/><path d=\"M17.41 7.96l-1.37-1.37c-.4-.4-.92-.59-1.43-.59-.52 0-1.04.2-1.43.59L10.3 9.45l-7.72 7.72c-.78.78-.78 2.05 0 2.83L4 21.41c.39.39.9.59 1.41.59.51 0 1.02-.2 1.41-.59l7.78-7.78 2.81-2.81c.8-.78.8-2.07 0-2.86zM5.41 20L4 18.59l7.72-7.72 1.47 1.35L5.41 20z\"/>\n",
              "  </svg>\n",
              "      </button>\n",
              "      \n",
              "  <style>\n",
              "    .colab-df-container {\n",
              "      display:flex;\n",
              "      flex-wrap:wrap;\n",
              "      gap: 12px;\n",
              "    }\n",
              "\n",
              "    .colab-df-convert {\n",
              "      background-color: #E8F0FE;\n",
              "      border: none;\n",
              "      border-radius: 50%;\n",
              "      cursor: pointer;\n",
              "      display: none;\n",
              "      fill: #1967D2;\n",
              "      height: 32px;\n",
              "      padding: 0 0 0 0;\n",
              "      width: 32px;\n",
              "    }\n",
              "\n",
              "    .colab-df-convert:hover {\n",
              "      background-color: #E2EBFA;\n",
              "      box-shadow: 0px 1px 2px rgba(60, 64, 67, 0.3), 0px 1px 3px 1px rgba(60, 64, 67, 0.15);\n",
              "      fill: #174EA6;\n",
              "    }\n",
              "\n",
              "    [theme=dark] .colab-df-convert {\n",
              "      background-color: #3B4455;\n",
              "      fill: #D2E3FC;\n",
              "    }\n",
              "\n",
              "    [theme=dark] .colab-df-convert:hover {\n",
              "      background-color: #434B5C;\n",
              "      box-shadow: 0px 1px 3px 1px rgba(0, 0, 0, 0.15);\n",
              "      filter: drop-shadow(0px 1px 2px rgba(0, 0, 0, 0.3));\n",
              "      fill: #FFFFFF;\n",
              "    }\n",
              "  </style>\n",
              "\n",
              "      <script>\n",
              "        const buttonEl =\n",
              "          document.querySelector('#df-319ef287-b328-4481-9294-dd8449c4db2e button.colab-df-convert');\n",
              "        buttonEl.style.display =\n",
              "          google.colab.kernel.accessAllowed ? 'block' : 'none';\n",
              "\n",
              "        async function convertToInteractive(key) {\n",
              "          const element = document.querySelector('#df-319ef287-b328-4481-9294-dd8449c4db2e');\n",
              "          const dataTable =\n",
              "            await google.colab.kernel.invokeFunction('convertToInteractive',\n",
              "                                                     [key], {});\n",
              "          if (!dataTable) return;\n",
              "\n",
              "          const docLinkHtml = 'Like what you see? Visit the ' +\n",
              "            '<a target=\"_blank\" href=https://colab.research.google.com/notebooks/data_table.ipynb>data table notebook</a>'\n",
              "            + ' to learn more about interactive tables.';\n",
              "          element.innerHTML = '';\n",
              "          dataTable['output_type'] = 'display_data';\n",
              "          await google.colab.output.renderOutput(dataTable, element);\n",
              "          const docLink = document.createElement('div');\n",
              "          docLink.innerHTML = docLinkHtml;\n",
              "          element.appendChild(docLink);\n",
              "        }\n",
              "      </script>\n",
              "    </div>\n",
              "  </div>\n",
              "  "
            ]
          },
          "metadata": {},
          "execution_count": 318
        }
      ],
      "source": [
        "df_production.head()"
      ]
    },
    {
      "cell_type": "code",
      "execution_count": null,
      "metadata": {
        "colab": {
          "base_uri": "https://localhost:8080/"
        },
        "id": "kR3NDObi12dj",
        "outputId": "ce27ddcb-7b1c-47f4-fe85-6124344df985"
      },
      "outputs": [
        {
          "output_type": "stream",
          "name": "stdout",
          "text": [
            "<class 'pandas.core.frame.DataFrame'>\n",
            "Int64Index: 29940 entries, 0 to 29939\n",
            "Data columns (total 8 columns):\n",
            " #   Column      Non-Null Count  Dtype  \n",
            "---  ------      --------------  -----  \n",
            " 0   start_date  29940 non-null  object \n",
            " 1   end_date    29940 non-null  object \n",
            " 2   precip      29940 non-null  float64\n",
            " 3   region_id   29940 non-null  int64  \n",
            " 4   smos        29940 non-null  float64\n",
            " 5   temp        29940 non-null  float64\n",
            " 6   ndvi        29940 non-null  float64\n",
            " 7   prod        720 non-null    float64\n",
            "dtypes: float64(5), int64(1), object(2)\n",
            "memory usage: 2.1+ MB\n"
          ]
        }
      ],
      "source": [
        "# To check if the data processing was doen appropriately\n",
        "new_df.info()"
      ]
    },
    {
      "cell_type": "code",
      "execution_count": null,
      "metadata": {
        "id": "SA29Na1kYiEK"
      },
      "outputs": [],
      "source": [
        "new_df.drop(columns=[\"end_date_y\"], inplace=True)\n",
        "new_df.rename(columns={\"end_date_x\":\"end_date\"}, inplace=True)"
      ]
    },
    {
      "cell_type": "code",
      "execution_count": null,
      "metadata": {
        "id": "ZXm4cuDw12dj"
      },
      "outputs": [],
      "source": [
        "new_df_2 = new_df[new_df['start_date'] >= min(df_production['start_date'])]"
      ]
    },
    {
      "cell_type": "code",
      "execution_count": null,
      "metadata": {
        "id": "5bCRJdlz12dk"
      },
      "outputs": [],
      "source": [
        "new_df_2.reset_index(drop=True,inplace=True)"
      ]
    },
    {
      "cell_type": "code",
      "execution_count": null,
      "metadata": {
        "colab": {
          "base_uri": "https://localhost:8080/"
        },
        "id": "DaipxuEK12dk",
        "outputId": "7498f5c3-6338-4f49-e7ec-540d77e6fbf3"
      },
      "outputs": [
        {
          "output_type": "stream",
          "name": "stdout",
          "text": [
            "<class 'pandas.core.frame.DataFrame'>\n",
            "RangeIndex: 26290 entries, 0 to 26289\n",
            "Data columns (total 8 columns):\n",
            " #   Column      Non-Null Count  Dtype              \n",
            "---  ------      --------------  -----              \n",
            " 0   start_date  26290 non-null  datetime64[ns, UTC]\n",
            " 1   end_date    26290 non-null  object             \n",
            " 2   precip      26290 non-null  float64            \n",
            " 3   region_id   26290 non-null  int64              \n",
            " 4   smos        26290 non-null  float64            \n",
            " 5   temp        26290 non-null  float64            \n",
            " 6   ndvi        26290 non-null  float64            \n",
            " 7   prod        720 non-null    float64            \n",
            "dtypes: datetime64[ns, UTC](1), float64(5), int64(1), object(1)\n",
            "memory usage: 1.6+ MB\n"
          ]
        }
      ],
      "source": [
        "new_df_2.info()"
      ]
    },
    {
      "cell_type": "markdown",
      "source": [
        "Splitting into the train and the test sets. \n",
        "\n",
        "assumption: I have assumed that the training was done in the time periods - '2015-2020' for which the production capacity values were readily available.\n",
        "\n",
        "assumption; For the test set, I have assumed that the prediction was done only for 1 year from 2021-01-01 to 2021-12-31."
      ],
      "metadata": {
        "id": "cNcOZgz_z64J"
      }
    },
    {
      "cell_type": "code",
      "execution_count": null,
      "metadata": {
        "id": "hbBiZySK12dk"
      },
      "outputs": [],
      "source": [
        "new_df_2_train = new_df_2[new_df_2['start_date'] < \"2021-01-01T00:00:00.000Z\"]\n",
        "new_df_2_test = new_df_2[new_df_2['start_date'] >= \"2021-01-01T00:00:00.000Z\"] \n",
        "new_df_2_test = new_df_2_test[new_df_2_test['start_date'] < \"2022-01-01T00:00:00.000Z\"] "
      ]
    },
    {
      "cell_type": "markdown",
      "source": [
        "assumption: for the production capacity values, I have forward filled the values for all the days in the month."
      ],
      "metadata": {
        "id": "m2xxun0e0Wg7"
      }
    },
    {
      "cell_type": "code",
      "execution_count": null,
      "metadata": {
        "colab": {
          "base_uri": "https://localhost:8080/"
        },
        "id": "5X9_OKVU12dk",
        "outputId": "2a22333d-a2d4-43f5-8b48-7ffa07a2be38"
      },
      "outputs": [
        {
          "output_type": "stream",
          "name": "stderr",
          "text": [
            "/usr/local/lib/python3.7/dist-packages/ipykernel_launcher.py:1: SettingWithCopyWarning: \n",
            "A value is trying to be set on a copy of a slice from a DataFrame.\n",
            "Try using .loc[row_indexer,col_indexer] = value instead\n",
            "\n",
            "See the caveats in the documentation: https://pandas.pydata.org/pandas-docs/stable/user_guide/indexing.html#returning-a-view-versus-a-copy\n",
            "  \"\"\"Entry point for launching an IPython kernel.\n"
          ]
        }
      ],
      "source": [
        "new_df_2_train['prod'] = new_df_2_train['prod'].fillna(method='ffill', axis=0)"
      ]
    },
    {
      "cell_type": "code",
      "source": [
        "new_df_2.head(5)"
      ],
      "metadata": {
        "colab": {
          "base_uri": "https://localhost:8080/",
          "height": 357
        },
        "id": "jbGKN-VN2bjq",
        "outputId": "7b0dd4d3-4d46-4ff5-e250-1506c4eb0bd9"
      },
      "execution_count": null,
      "outputs": [
        {
          "output_type": "execute_result",
          "data": {
            "text/plain": [
              "                 start_date                  end_date    precip  region_id  \\\n",
              "0 2015-01-01 00:00:00+00:00  2015-01-01T00:00:00.000Z  2.278169         93   \n",
              "1 2015-01-02 00:00:00+00:00  2015-01-02T00:00:00.000Z  0.863206         93   \n",
              "2 2015-01-03 00:00:00+00:00  2015-01-03T00:00:00.000Z  0.312079         93   \n",
              "3 2015-01-04 00:00:00+00:00  2015-01-04T00:00:00.000Z  0.411836         93   \n",
              "4 2015-01-05 00:00:00+00:00  2015-01-05T00:00:00.000Z  2.275593         93   \n",
              "\n",
              "       smos       temp      ndvi      prod  \n",
              "0  0.397555  26.542191  0.734261  171725.0  \n",
              "1  0.328829  22.460309  0.734261       NaN  \n",
              "2  0.258153  26.542191  0.734261       NaN  \n",
              "3  0.258153  26.542191  0.734261       NaN  \n",
              "4  0.200344  26.542191  0.734261       NaN  "
            ],
            "text/html": [
              "\n",
              "  <div id=\"df-3d92dc3b-7c6c-4c60-a1ad-cfbf06022f67\">\n",
              "    <div class=\"colab-df-container\">\n",
              "      <div>\n",
              "<style scoped>\n",
              "    .dataframe tbody tr th:only-of-type {\n",
              "        vertical-align: middle;\n",
              "    }\n",
              "\n",
              "    .dataframe tbody tr th {\n",
              "        vertical-align: top;\n",
              "    }\n",
              "\n",
              "    .dataframe thead th {\n",
              "        text-align: right;\n",
              "    }\n",
              "</style>\n",
              "<table border=\"1\" class=\"dataframe\">\n",
              "  <thead>\n",
              "    <tr style=\"text-align: right;\">\n",
              "      <th></th>\n",
              "      <th>start_date</th>\n",
              "      <th>end_date</th>\n",
              "      <th>precip</th>\n",
              "      <th>region_id</th>\n",
              "      <th>smos</th>\n",
              "      <th>temp</th>\n",
              "      <th>ndvi</th>\n",
              "      <th>prod</th>\n",
              "    </tr>\n",
              "  </thead>\n",
              "  <tbody>\n",
              "    <tr>\n",
              "      <th>0</th>\n",
              "      <td>2015-01-01 00:00:00+00:00</td>\n",
              "      <td>2015-01-01T00:00:00.000Z</td>\n",
              "      <td>2.278169</td>\n",
              "      <td>93</td>\n",
              "      <td>0.397555</td>\n",
              "      <td>26.542191</td>\n",
              "      <td>0.734261</td>\n",
              "      <td>171725.0</td>\n",
              "    </tr>\n",
              "    <tr>\n",
              "      <th>1</th>\n",
              "      <td>2015-01-02 00:00:00+00:00</td>\n",
              "      <td>2015-01-02T00:00:00.000Z</td>\n",
              "      <td>0.863206</td>\n",
              "      <td>93</td>\n",
              "      <td>0.328829</td>\n",
              "      <td>22.460309</td>\n",
              "      <td>0.734261</td>\n",
              "      <td>NaN</td>\n",
              "    </tr>\n",
              "    <tr>\n",
              "      <th>2</th>\n",
              "      <td>2015-01-03 00:00:00+00:00</td>\n",
              "      <td>2015-01-03T00:00:00.000Z</td>\n",
              "      <td>0.312079</td>\n",
              "      <td>93</td>\n",
              "      <td>0.258153</td>\n",
              "      <td>26.542191</td>\n",
              "      <td>0.734261</td>\n",
              "      <td>NaN</td>\n",
              "    </tr>\n",
              "    <tr>\n",
              "      <th>3</th>\n",
              "      <td>2015-01-04 00:00:00+00:00</td>\n",
              "      <td>2015-01-04T00:00:00.000Z</td>\n",
              "      <td>0.411836</td>\n",
              "      <td>93</td>\n",
              "      <td>0.258153</td>\n",
              "      <td>26.542191</td>\n",
              "      <td>0.734261</td>\n",
              "      <td>NaN</td>\n",
              "    </tr>\n",
              "    <tr>\n",
              "      <th>4</th>\n",
              "      <td>2015-01-05 00:00:00+00:00</td>\n",
              "      <td>2015-01-05T00:00:00.000Z</td>\n",
              "      <td>2.275593</td>\n",
              "      <td>93</td>\n",
              "      <td>0.200344</td>\n",
              "      <td>26.542191</td>\n",
              "      <td>0.734261</td>\n",
              "      <td>NaN</td>\n",
              "    </tr>\n",
              "  </tbody>\n",
              "</table>\n",
              "</div>\n",
              "      <button class=\"colab-df-convert\" onclick=\"convertToInteractive('df-3d92dc3b-7c6c-4c60-a1ad-cfbf06022f67')\"\n",
              "              title=\"Convert this dataframe to an interactive table.\"\n",
              "              style=\"display:none;\">\n",
              "        \n",
              "  <svg xmlns=\"http://www.w3.org/2000/svg\" height=\"24px\"viewBox=\"0 0 24 24\"\n",
              "       width=\"24px\">\n",
              "    <path d=\"M0 0h24v24H0V0z\" fill=\"none\"/>\n",
              "    <path d=\"M18.56 5.44l.94 2.06.94-2.06 2.06-.94-2.06-.94-.94-2.06-.94 2.06-2.06.94zm-11 1L8.5 8.5l.94-2.06 2.06-.94-2.06-.94L8.5 2.5l-.94 2.06-2.06.94zm10 10l.94 2.06.94-2.06 2.06-.94-2.06-.94-.94-2.06-.94 2.06-2.06.94z\"/><path d=\"M17.41 7.96l-1.37-1.37c-.4-.4-.92-.59-1.43-.59-.52 0-1.04.2-1.43.59L10.3 9.45l-7.72 7.72c-.78.78-.78 2.05 0 2.83L4 21.41c.39.39.9.59 1.41.59.51 0 1.02-.2 1.41-.59l7.78-7.78 2.81-2.81c.8-.78.8-2.07 0-2.86zM5.41 20L4 18.59l7.72-7.72 1.47 1.35L5.41 20z\"/>\n",
              "  </svg>\n",
              "      </button>\n",
              "      \n",
              "  <style>\n",
              "    .colab-df-container {\n",
              "      display:flex;\n",
              "      flex-wrap:wrap;\n",
              "      gap: 12px;\n",
              "    }\n",
              "\n",
              "    .colab-df-convert {\n",
              "      background-color: #E8F0FE;\n",
              "      border: none;\n",
              "      border-radius: 50%;\n",
              "      cursor: pointer;\n",
              "      display: none;\n",
              "      fill: #1967D2;\n",
              "      height: 32px;\n",
              "      padding: 0 0 0 0;\n",
              "      width: 32px;\n",
              "    }\n",
              "\n",
              "    .colab-df-convert:hover {\n",
              "      background-color: #E2EBFA;\n",
              "      box-shadow: 0px 1px 2px rgba(60, 64, 67, 0.3), 0px 1px 3px 1px rgba(60, 64, 67, 0.15);\n",
              "      fill: #174EA6;\n",
              "    }\n",
              "\n",
              "    [theme=dark] .colab-df-convert {\n",
              "      background-color: #3B4455;\n",
              "      fill: #D2E3FC;\n",
              "    }\n",
              "\n",
              "    [theme=dark] .colab-df-convert:hover {\n",
              "      background-color: #434B5C;\n",
              "      box-shadow: 0px 1px 3px 1px rgba(0, 0, 0, 0.15);\n",
              "      filter: drop-shadow(0px 1px 2px rgba(0, 0, 0, 0.3));\n",
              "      fill: #FFFFFF;\n",
              "    }\n",
              "  </style>\n",
              "\n",
              "      <script>\n",
              "        const buttonEl =\n",
              "          document.querySelector('#df-3d92dc3b-7c6c-4c60-a1ad-cfbf06022f67 button.colab-df-convert');\n",
              "        buttonEl.style.display =\n",
              "          google.colab.kernel.accessAllowed ? 'block' : 'none';\n",
              "\n",
              "        async function convertToInteractive(key) {\n",
              "          const element = document.querySelector('#df-3d92dc3b-7c6c-4c60-a1ad-cfbf06022f67');\n",
              "          const dataTable =\n",
              "            await google.colab.kernel.invokeFunction('convertToInteractive',\n",
              "                                                     [key], {});\n",
              "          if (!dataTable) return;\n",
              "\n",
              "          const docLinkHtml = 'Like what you see? Visit the ' +\n",
              "            '<a target=\"_blank\" href=https://colab.research.google.com/notebooks/data_table.ipynb>data table notebook</a>'\n",
              "            + ' to learn more about interactive tables.';\n",
              "          element.innerHTML = '';\n",
              "          dataTable['output_type'] = 'display_data';\n",
              "          await google.colab.output.renderOutput(dataTable, element);\n",
              "          const docLink = document.createElement('div');\n",
              "          docLink.innerHTML = docLinkHtml;\n",
              "          element.appendChild(docLink);\n",
              "        }\n",
              "      </script>\n",
              "    </div>\n",
              "  </div>\n",
              "  "
            ]
          },
          "metadata": {},
          "execution_count": 333
        }
      ]
    },
    {
      "cell_type": "markdown",
      "metadata": {
        "id": "ysQelyoX12dm"
      },
      "source": [
        "### Dropping the date related columns .... Not considering them in regression testing"
      ]
    },
    {
      "cell_type": "code",
      "execution_count": null,
      "metadata": {
        "colab": {
          "base_uri": "https://localhost:8080/"
        },
        "id": "osqPDpv712dm",
        "outputId": "f0a80f89-637e-4889-9c2d-7da7215888f2"
      },
      "outputs": [
        {
          "output_type": "stream",
          "name": "stderr",
          "text": [
            "/usr/local/lib/python3.7/dist-packages/pandas/core/frame.py:4913: SettingWithCopyWarning: \n",
            "A value is trying to be set on a copy of a slice from a DataFrame\n",
            "\n",
            "See the caveats in the documentation: https://pandas.pydata.org/pandas-docs/stable/user_guide/indexing.html#returning-a-view-versus-a-copy\n",
            "  errors=errors,\n"
          ]
        }
      ],
      "source": [
        "new_df_2_train.drop(columns=['start_date','end_date'],inplace=True)\n",
        "new_df_2_test.drop(columns=['start_date','end_date'],inplace=True)"
      ]
    },
    {
      "cell_type": "markdown",
      "metadata": {
        "id": "fwj_Nb1i12dm"
      },
      "source": [
        "### Standardizing the four independent variables"
      ]
    },
    {
      "cell_type": "code",
      "execution_count": null,
      "metadata": {
        "id": "dhmAvE9n12dm"
      },
      "outputs": [],
      "source": [
        "train_mean = new_df_2_train[['precip','smos','temp','ndvi','prod']].mean(axis=0)\n",
        "train_std = new_df_2_train[['precip','smos','temp','ndvi','prod']].std(axis=0)"
      ]
    },
    {
      "cell_type": "code",
      "execution_count": null,
      "metadata": {
        "colab": {
          "base_uri": "https://localhost:8080/"
        },
        "id": "Qu334atV12dm",
        "outputId": "5568f4e0-e6ba-4689-ac12-e0ee79918652"
      },
      "outputs": [
        {
          "output_type": "stream",
          "name": "stderr",
          "text": [
            "/usr/local/lib/python3.7/dist-packages/pandas/core/frame.py:3641: SettingWithCopyWarning: \n",
            "A value is trying to be set on a copy of a slice from a DataFrame.\n",
            "Try using .loc[row_indexer,col_indexer] = value instead\n",
            "\n",
            "See the caveats in the documentation: https://pandas.pydata.org/pandas-docs/stable/user_guide/indexing.html#returning-a-view-versus-a-copy\n",
            "  self[k1] = value[k2]\n"
          ]
        }
      ],
      "source": [
        "new_df_2_train[['precip','smos','temp','ndvi','prod']] = (new_df_2_train[['precip','smos','temp','ndvi','prod']] - train_mean)/train_std"
      ]
    },
    {
      "cell_type": "code",
      "execution_count": null,
      "metadata": {
        "id": "k5rkrMVb12dm"
      },
      "outputs": [],
      "source": [
        "new_df_2_test[['precip','smos','temp','ndvi','prod']] = (new_df_2_test[['precip','smos','temp','ndvi','prod']] - train_mean)/train_std"
      ]
    },
    {
      "cell_type": "markdown",
      "source": [
        "#### The complete train and test datasets are prepared"
      ],
      "metadata": {
        "id": "8mudJf-24mNS"
      }
    },
    {
      "cell_type": "code",
      "source": [
        "new_df_2_train.head(10)"
      ],
      "metadata": {
        "colab": {
          "base_uri": "https://localhost:8080/",
          "height": 363
        },
        "id": "6S1KhdWA4MGN",
        "outputId": "7caf0b4d-d34d-4390-b790-67b4c1a60432"
      },
      "execution_count": null,
      "outputs": [
        {
          "output_type": "execute_result",
          "data": {
            "text/plain": [
              "     precip  region_id      smos      temp     ndvi      prod\n",
              "0 -0.554952         93  1.478688 -0.034403 -2.04914  0.087733\n",
              "1 -0.717256         93  0.738559 -2.568207 -2.04914  0.087733\n",
              "2 -0.780473         93 -0.022555 -0.034403 -2.04914  0.087733\n",
              "3 -0.769030         93 -0.022555 -0.034403 -2.04914  0.087733\n",
              "4 -0.555248         93 -0.645119 -0.034403 -2.04914  0.087733\n",
              "5  0.134715         93 -0.101775 -0.034403 -2.04914  0.087733\n",
              "6  1.485504         93 -0.101775 -0.416650 -2.04914  0.087733\n",
              "7  5.434851         93  2.748781 -0.034403 -2.04914  0.087733\n",
              "8  3.254285         93  2.748781 -0.034403 -1.77281  0.087733\n",
              "9 -0.602985         93  1.194548 -2.331838 -1.77281  0.087733"
            ],
            "text/html": [
              "\n",
              "  <div id=\"df-e9d1d3fa-a8f5-4b93-a206-8b4db974fb19\">\n",
              "    <div class=\"colab-df-container\">\n",
              "      <div>\n",
              "<style scoped>\n",
              "    .dataframe tbody tr th:only-of-type {\n",
              "        vertical-align: middle;\n",
              "    }\n",
              "\n",
              "    .dataframe tbody tr th {\n",
              "        vertical-align: top;\n",
              "    }\n",
              "\n",
              "    .dataframe thead th {\n",
              "        text-align: right;\n",
              "    }\n",
              "</style>\n",
              "<table border=\"1\" class=\"dataframe\">\n",
              "  <thead>\n",
              "    <tr style=\"text-align: right;\">\n",
              "      <th></th>\n",
              "      <th>precip</th>\n",
              "      <th>region_id</th>\n",
              "      <th>smos</th>\n",
              "      <th>temp</th>\n",
              "      <th>ndvi</th>\n",
              "      <th>prod</th>\n",
              "    </tr>\n",
              "  </thead>\n",
              "  <tbody>\n",
              "    <tr>\n",
              "      <th>0</th>\n",
              "      <td>-0.554952</td>\n",
              "      <td>93</td>\n",
              "      <td>1.478688</td>\n",
              "      <td>-0.034403</td>\n",
              "      <td>-2.04914</td>\n",
              "      <td>0.087733</td>\n",
              "    </tr>\n",
              "    <tr>\n",
              "      <th>1</th>\n",
              "      <td>-0.717256</td>\n",
              "      <td>93</td>\n",
              "      <td>0.738559</td>\n",
              "      <td>-2.568207</td>\n",
              "      <td>-2.04914</td>\n",
              "      <td>0.087733</td>\n",
              "    </tr>\n",
              "    <tr>\n",
              "      <th>2</th>\n",
              "      <td>-0.780473</td>\n",
              "      <td>93</td>\n",
              "      <td>-0.022555</td>\n",
              "      <td>-0.034403</td>\n",
              "      <td>-2.04914</td>\n",
              "      <td>0.087733</td>\n",
              "    </tr>\n",
              "    <tr>\n",
              "      <th>3</th>\n",
              "      <td>-0.769030</td>\n",
              "      <td>93</td>\n",
              "      <td>-0.022555</td>\n",
              "      <td>-0.034403</td>\n",
              "      <td>-2.04914</td>\n",
              "      <td>0.087733</td>\n",
              "    </tr>\n",
              "    <tr>\n",
              "      <th>4</th>\n",
              "      <td>-0.555248</td>\n",
              "      <td>93</td>\n",
              "      <td>-0.645119</td>\n",
              "      <td>-0.034403</td>\n",
              "      <td>-2.04914</td>\n",
              "      <td>0.087733</td>\n",
              "    </tr>\n",
              "    <tr>\n",
              "      <th>5</th>\n",
              "      <td>0.134715</td>\n",
              "      <td>93</td>\n",
              "      <td>-0.101775</td>\n",
              "      <td>-0.034403</td>\n",
              "      <td>-2.04914</td>\n",
              "      <td>0.087733</td>\n",
              "    </tr>\n",
              "    <tr>\n",
              "      <th>6</th>\n",
              "      <td>1.485504</td>\n",
              "      <td>93</td>\n",
              "      <td>-0.101775</td>\n",
              "      <td>-0.416650</td>\n",
              "      <td>-2.04914</td>\n",
              "      <td>0.087733</td>\n",
              "    </tr>\n",
              "    <tr>\n",
              "      <th>7</th>\n",
              "      <td>5.434851</td>\n",
              "      <td>93</td>\n",
              "      <td>2.748781</td>\n",
              "      <td>-0.034403</td>\n",
              "      <td>-2.04914</td>\n",
              "      <td>0.087733</td>\n",
              "    </tr>\n",
              "    <tr>\n",
              "      <th>8</th>\n",
              "      <td>3.254285</td>\n",
              "      <td>93</td>\n",
              "      <td>2.748781</td>\n",
              "      <td>-0.034403</td>\n",
              "      <td>-1.77281</td>\n",
              "      <td>0.087733</td>\n",
              "    </tr>\n",
              "    <tr>\n",
              "      <th>9</th>\n",
              "      <td>-0.602985</td>\n",
              "      <td>93</td>\n",
              "      <td>1.194548</td>\n",
              "      <td>-2.331838</td>\n",
              "      <td>-1.77281</td>\n",
              "      <td>0.087733</td>\n",
              "    </tr>\n",
              "  </tbody>\n",
              "</table>\n",
              "</div>\n",
              "      <button class=\"colab-df-convert\" onclick=\"convertToInteractive('df-e9d1d3fa-a8f5-4b93-a206-8b4db974fb19')\"\n",
              "              title=\"Convert this dataframe to an interactive table.\"\n",
              "              style=\"display:none;\">\n",
              "        \n",
              "  <svg xmlns=\"http://www.w3.org/2000/svg\" height=\"24px\"viewBox=\"0 0 24 24\"\n",
              "       width=\"24px\">\n",
              "    <path d=\"M0 0h24v24H0V0z\" fill=\"none\"/>\n",
              "    <path d=\"M18.56 5.44l.94 2.06.94-2.06 2.06-.94-2.06-.94-.94-2.06-.94 2.06-2.06.94zm-11 1L8.5 8.5l.94-2.06 2.06-.94-2.06-.94L8.5 2.5l-.94 2.06-2.06.94zm10 10l.94 2.06.94-2.06 2.06-.94-2.06-.94-.94-2.06-.94 2.06-2.06.94z\"/><path d=\"M17.41 7.96l-1.37-1.37c-.4-.4-.92-.59-1.43-.59-.52 0-1.04.2-1.43.59L10.3 9.45l-7.72 7.72c-.78.78-.78 2.05 0 2.83L4 21.41c.39.39.9.59 1.41.59.51 0 1.02-.2 1.41-.59l7.78-7.78 2.81-2.81c.8-.78.8-2.07 0-2.86zM5.41 20L4 18.59l7.72-7.72 1.47 1.35L5.41 20z\"/>\n",
              "  </svg>\n",
              "      </button>\n",
              "      \n",
              "  <style>\n",
              "    .colab-df-container {\n",
              "      display:flex;\n",
              "      flex-wrap:wrap;\n",
              "      gap: 12px;\n",
              "    }\n",
              "\n",
              "    .colab-df-convert {\n",
              "      background-color: #E8F0FE;\n",
              "      border: none;\n",
              "      border-radius: 50%;\n",
              "      cursor: pointer;\n",
              "      display: none;\n",
              "      fill: #1967D2;\n",
              "      height: 32px;\n",
              "      padding: 0 0 0 0;\n",
              "      width: 32px;\n",
              "    }\n",
              "\n",
              "    .colab-df-convert:hover {\n",
              "      background-color: #E2EBFA;\n",
              "      box-shadow: 0px 1px 2px rgba(60, 64, 67, 0.3), 0px 1px 3px 1px rgba(60, 64, 67, 0.15);\n",
              "      fill: #174EA6;\n",
              "    }\n",
              "\n",
              "    [theme=dark] .colab-df-convert {\n",
              "      background-color: #3B4455;\n",
              "      fill: #D2E3FC;\n",
              "    }\n",
              "\n",
              "    [theme=dark] .colab-df-convert:hover {\n",
              "      background-color: #434B5C;\n",
              "      box-shadow: 0px 1px 3px 1px rgba(0, 0, 0, 0.15);\n",
              "      filter: drop-shadow(0px 1px 2px rgba(0, 0, 0, 0.3));\n",
              "      fill: #FFFFFF;\n",
              "    }\n",
              "  </style>\n",
              "\n",
              "      <script>\n",
              "        const buttonEl =\n",
              "          document.querySelector('#df-e9d1d3fa-a8f5-4b93-a206-8b4db974fb19 button.colab-df-convert');\n",
              "        buttonEl.style.display =\n",
              "          google.colab.kernel.accessAllowed ? 'block' : 'none';\n",
              "\n",
              "        async function convertToInteractive(key) {\n",
              "          const element = document.querySelector('#df-e9d1d3fa-a8f5-4b93-a206-8b4db974fb19');\n",
              "          const dataTable =\n",
              "            await google.colab.kernel.invokeFunction('convertToInteractive',\n",
              "                                                     [key], {});\n",
              "          if (!dataTable) return;\n",
              "\n",
              "          const docLinkHtml = 'Like what you see? Visit the ' +\n",
              "            '<a target=\"_blank\" href=https://colab.research.google.com/notebooks/data_table.ipynb>data table notebook</a>'\n",
              "            + ' to learn more about interactive tables.';\n",
              "          element.innerHTML = '';\n",
              "          dataTable['output_type'] = 'display_data';\n",
              "          await google.colab.output.renderOutput(dataTable, element);\n",
              "          const docLink = document.createElement('div');\n",
              "          docLink.innerHTML = docLinkHtml;\n",
              "          element.appendChild(docLink);\n",
              "        }\n",
              "      </script>\n",
              "    </div>\n",
              "  </div>\n",
              "  "
            ]
          },
          "metadata": {},
          "execution_count": 340
        }
      ]
    },
    {
      "cell_type": "code",
      "source": [
        "new_df_2_test.tail(10)"
      ],
      "metadata": {
        "colab": {
          "base_uri": "https://localhost:8080/",
          "height": 363
        },
        "id": "p6gRxyNO4ZW8",
        "outputId": "899b1e1f-ca6c-4372-f6b5-73921e627d05"
      },
      "execution_count": null,
      "outputs": [
        {
          "output_type": "execute_result",
          "data": {
            "text/plain": [
              "         precip  region_id      smos      temp      ndvi  prod\n",
              "26208 -0.560425        105  2.667813 -0.034403  0.206689   NaN\n",
              "26209 -0.432496        105  2.667813 -0.214240  0.206689   NaN\n",
              "26210 -0.697664        105  2.667813 -0.034403  0.206689   NaN\n",
              "26211 -0.776909        105  1.876430 -0.698539  0.206689   NaN\n",
              "26212 -0.816227        105  1.876430 -0.034403  0.206689   NaN\n",
              "26213 -0.816234        105  1.876430 -1.923254  0.206689   NaN\n",
              "26214 -0.812027        105  1.571025 -2.716382  0.206689   NaN\n",
              "26215 -0.050879        105  1.571025 -0.034403  0.206689   NaN\n",
              "26216  7.020468        105  2.416081 -0.034403  0.206689   NaN\n",
              "26217 -0.000518        105  2.552749 -0.034403  0.206689   NaN"
            ],
            "text/html": [
              "\n",
              "  <div id=\"df-ddcd1d07-61db-493e-bf9e-1cb4f26ca4a6\">\n",
              "    <div class=\"colab-df-container\">\n",
              "      <div>\n",
              "<style scoped>\n",
              "    .dataframe tbody tr th:only-of-type {\n",
              "        vertical-align: middle;\n",
              "    }\n",
              "\n",
              "    .dataframe tbody tr th {\n",
              "        vertical-align: top;\n",
              "    }\n",
              "\n",
              "    .dataframe thead th {\n",
              "        text-align: right;\n",
              "    }\n",
              "</style>\n",
              "<table border=\"1\" class=\"dataframe\">\n",
              "  <thead>\n",
              "    <tr style=\"text-align: right;\">\n",
              "      <th></th>\n",
              "      <th>precip</th>\n",
              "      <th>region_id</th>\n",
              "      <th>smos</th>\n",
              "      <th>temp</th>\n",
              "      <th>ndvi</th>\n",
              "      <th>prod</th>\n",
              "    </tr>\n",
              "  </thead>\n",
              "  <tbody>\n",
              "    <tr>\n",
              "      <th>26208</th>\n",
              "      <td>-0.560425</td>\n",
              "      <td>105</td>\n",
              "      <td>2.667813</td>\n",
              "      <td>-0.034403</td>\n",
              "      <td>0.206689</td>\n",
              "      <td>NaN</td>\n",
              "    </tr>\n",
              "    <tr>\n",
              "      <th>26209</th>\n",
              "      <td>-0.432496</td>\n",
              "      <td>105</td>\n",
              "      <td>2.667813</td>\n",
              "      <td>-0.214240</td>\n",
              "      <td>0.206689</td>\n",
              "      <td>NaN</td>\n",
              "    </tr>\n",
              "    <tr>\n",
              "      <th>26210</th>\n",
              "      <td>-0.697664</td>\n",
              "      <td>105</td>\n",
              "      <td>2.667813</td>\n",
              "      <td>-0.034403</td>\n",
              "      <td>0.206689</td>\n",
              "      <td>NaN</td>\n",
              "    </tr>\n",
              "    <tr>\n",
              "      <th>26211</th>\n",
              "      <td>-0.776909</td>\n",
              "      <td>105</td>\n",
              "      <td>1.876430</td>\n",
              "      <td>-0.698539</td>\n",
              "      <td>0.206689</td>\n",
              "      <td>NaN</td>\n",
              "    </tr>\n",
              "    <tr>\n",
              "      <th>26212</th>\n",
              "      <td>-0.816227</td>\n",
              "      <td>105</td>\n",
              "      <td>1.876430</td>\n",
              "      <td>-0.034403</td>\n",
              "      <td>0.206689</td>\n",
              "      <td>NaN</td>\n",
              "    </tr>\n",
              "    <tr>\n",
              "      <th>26213</th>\n",
              "      <td>-0.816234</td>\n",
              "      <td>105</td>\n",
              "      <td>1.876430</td>\n",
              "      <td>-1.923254</td>\n",
              "      <td>0.206689</td>\n",
              "      <td>NaN</td>\n",
              "    </tr>\n",
              "    <tr>\n",
              "      <th>26214</th>\n",
              "      <td>-0.812027</td>\n",
              "      <td>105</td>\n",
              "      <td>1.571025</td>\n",
              "      <td>-2.716382</td>\n",
              "      <td>0.206689</td>\n",
              "      <td>NaN</td>\n",
              "    </tr>\n",
              "    <tr>\n",
              "      <th>26215</th>\n",
              "      <td>-0.050879</td>\n",
              "      <td>105</td>\n",
              "      <td>1.571025</td>\n",
              "      <td>-0.034403</td>\n",
              "      <td>0.206689</td>\n",
              "      <td>NaN</td>\n",
              "    </tr>\n",
              "    <tr>\n",
              "      <th>26216</th>\n",
              "      <td>7.020468</td>\n",
              "      <td>105</td>\n",
              "      <td>2.416081</td>\n",
              "      <td>-0.034403</td>\n",
              "      <td>0.206689</td>\n",
              "      <td>NaN</td>\n",
              "    </tr>\n",
              "    <tr>\n",
              "      <th>26217</th>\n",
              "      <td>-0.000518</td>\n",
              "      <td>105</td>\n",
              "      <td>2.552749</td>\n",
              "      <td>-0.034403</td>\n",
              "      <td>0.206689</td>\n",
              "      <td>NaN</td>\n",
              "    </tr>\n",
              "  </tbody>\n",
              "</table>\n",
              "</div>\n",
              "      <button class=\"colab-df-convert\" onclick=\"convertToInteractive('df-ddcd1d07-61db-493e-bf9e-1cb4f26ca4a6')\"\n",
              "              title=\"Convert this dataframe to an interactive table.\"\n",
              "              style=\"display:none;\">\n",
              "        \n",
              "  <svg xmlns=\"http://www.w3.org/2000/svg\" height=\"24px\"viewBox=\"0 0 24 24\"\n",
              "       width=\"24px\">\n",
              "    <path d=\"M0 0h24v24H0V0z\" fill=\"none\"/>\n",
              "    <path d=\"M18.56 5.44l.94 2.06.94-2.06 2.06-.94-2.06-.94-.94-2.06-.94 2.06-2.06.94zm-11 1L8.5 8.5l.94-2.06 2.06-.94-2.06-.94L8.5 2.5l-.94 2.06-2.06.94zm10 10l.94 2.06.94-2.06 2.06-.94-2.06-.94-.94-2.06-.94 2.06-2.06.94z\"/><path d=\"M17.41 7.96l-1.37-1.37c-.4-.4-.92-.59-1.43-.59-.52 0-1.04.2-1.43.59L10.3 9.45l-7.72 7.72c-.78.78-.78 2.05 0 2.83L4 21.41c.39.39.9.59 1.41.59.51 0 1.02-.2 1.41-.59l7.78-7.78 2.81-2.81c.8-.78.8-2.07 0-2.86zM5.41 20L4 18.59l7.72-7.72 1.47 1.35L5.41 20z\"/>\n",
              "  </svg>\n",
              "      </button>\n",
              "      \n",
              "  <style>\n",
              "    .colab-df-container {\n",
              "      display:flex;\n",
              "      flex-wrap:wrap;\n",
              "      gap: 12px;\n",
              "    }\n",
              "\n",
              "    .colab-df-convert {\n",
              "      background-color: #E8F0FE;\n",
              "      border: none;\n",
              "      border-radius: 50%;\n",
              "      cursor: pointer;\n",
              "      display: none;\n",
              "      fill: #1967D2;\n",
              "      height: 32px;\n",
              "      padding: 0 0 0 0;\n",
              "      width: 32px;\n",
              "    }\n",
              "\n",
              "    .colab-df-convert:hover {\n",
              "      background-color: #E2EBFA;\n",
              "      box-shadow: 0px 1px 2px rgba(60, 64, 67, 0.3), 0px 1px 3px 1px rgba(60, 64, 67, 0.15);\n",
              "      fill: #174EA6;\n",
              "    }\n",
              "\n",
              "    [theme=dark] .colab-df-convert {\n",
              "      background-color: #3B4455;\n",
              "      fill: #D2E3FC;\n",
              "    }\n",
              "\n",
              "    [theme=dark] .colab-df-convert:hover {\n",
              "      background-color: #434B5C;\n",
              "      box-shadow: 0px 1px 3px 1px rgba(0, 0, 0, 0.15);\n",
              "      filter: drop-shadow(0px 1px 2px rgba(0, 0, 0, 0.3));\n",
              "      fill: #FFFFFF;\n",
              "    }\n",
              "  </style>\n",
              "\n",
              "      <script>\n",
              "        const buttonEl =\n",
              "          document.querySelector('#df-ddcd1d07-61db-493e-bf9e-1cb4f26ca4a6 button.colab-df-convert');\n",
              "        buttonEl.style.display =\n",
              "          google.colab.kernel.accessAllowed ? 'block' : 'none';\n",
              "\n",
              "        async function convertToInteractive(key) {\n",
              "          const element = document.querySelector('#df-ddcd1d07-61db-493e-bf9e-1cb4f26ca4a6');\n",
              "          const dataTable =\n",
              "            await google.colab.kernel.invokeFunction('convertToInteractive',\n",
              "                                                     [key], {});\n",
              "          if (!dataTable) return;\n",
              "\n",
              "          const docLinkHtml = 'Like what you see? Visit the ' +\n",
              "            '<a target=\"_blank\" href=https://colab.research.google.com/notebooks/data_table.ipynb>data table notebook</a>'\n",
              "            + ' to learn more about interactive tables.';\n",
              "          element.innerHTML = '';\n",
              "          dataTable['output_type'] = 'display_data';\n",
              "          await google.colab.output.renderOutput(dataTable, element);\n",
              "          const docLink = document.createElement('div');\n",
              "          docLink.innerHTML = docLinkHtml;\n",
              "          element.appendChild(docLink);\n",
              "        }\n",
              "      </script>\n",
              "    </div>\n",
              "  </div>\n",
              "  "
            ]
          },
          "metadata": {},
          "execution_count": 339
        }
      ]
    },
    {
      "cell_type": "markdown",
      "metadata": {
        "id": "YCO9Rcfs12dm"
      },
      "source": [
        "### Train test split starts here\n",
        "\n",
        "#### Here we create a 20% validation split on the train set"
      ]
    },
    {
      "cell_type": "code",
      "execution_count": null,
      "metadata": {
        "id": "W6ld6z7B12dm"
      },
      "outputs": [],
      "source": [
        "x_train_2 = new_df_2_train.drop(columns=[\"prod\"]).values\n",
        "y_train_2 = new_df_2_train[\"prod\"].values\n",
        "x_test_2 = new_df_2_test.drop(columns=[\"prod\"]).values\n",
        "y_test_2 = new_df_2_test[\"prod\"].values\n",
        "X_train_2, X_val_2, Y_train_2, Y_val_2 = train_test_split(x_train_2, y_train_2, test_size=0.2, shuffle=True)"
      ]
    },
    {
      "cell_type": "markdown",
      "source": [
        "# Data Analysis"
      ],
      "metadata": {
        "id": "sm_HHKNq0z3z"
      }
    },
    {
      "cell_type": "markdown",
      "metadata": {
        "id": "of7NBhho12dm"
      },
      "source": [
        "### Identifying that Precip does not have a linear relationship with the dependent variable"
      ]
    },
    {
      "cell_type": "markdown",
      "source": [
        "In brief, Ordinary Least Squares (OLS) Regression compares the difference between individual points in your data set and the predicted best fit line to measure the amount of error produced.\n",
        "\n",
        "As seen from the summary report below, R-squared is one of the most important measurement produced by this summary. R-squared is the measurement of how much of the independent variable is explained by any changes in our dependent variables. Adjusted R-squared is important for analyzing multiple dependent variables’ efficacy on the model. Since, in linear regression the model’s R-squared value will never go down with additional variables, only equal or higher. Therefore, the model could look more accurate with multiple variables even if they are poorly contributing. The adjusted R-squared penalizes the R-squared formula based on the number of variables, therefore a lower adjusted score may be telling us that some variables are not contributing to our model’s R-squared value.\n",
        "\n",
        "As seen here, the R-squared value is 0.186, which is very low.\n",
        "\n",
        "Also looking at the p-value, that is P>|t| tells us that for the feature 'precip' and 'region_id', there is 32.7% and 66.1% chance that the two features do not contribute sufficiently to the dependent variable 'prod'. Hence, we can neglect these two features. "
      ],
      "metadata": {
        "id": "2X1Xkc2N9DeZ"
      }
    },
    {
      "cell_type": "code",
      "execution_count": null,
      "metadata": {
        "colab": {
          "base_uri": "https://localhost:8080/"
        },
        "id": "FX0r0-1612dm",
        "outputId": "523729be-2b23-47de-e19f-b473a7092a87"
      },
      "outputs": [
        {
          "output_type": "stream",
          "name": "stdout",
          "text": [
            "                                 OLS Regression Results                                \n",
            "=======================================================================================\n",
            "Dep. Variable:                      y   R-squared (uncentered):                   0.187\n",
            "Model:                            OLS   Adj. R-squared (uncentered):              0.187\n",
            "Method:                 Least Squares   F-statistic:                              808.1\n",
            "Date:                Wed, 06 Apr 2022   Prob (F-statistic):                        0.00\n",
            "Time:                        03:03:09   Log-Likelihood:                         -23084.\n",
            "No. Observations:               17536   AIC:                                  4.618e+04\n",
            "Df Residuals:                   17531   BIC:                                  4.622e+04\n",
            "Df Model:                           5                                                  \n",
            "Covariance Type:            nonrobust                                                  \n",
            "==============================================================================\n",
            "                 coef    std err          t      P>|t|      [0.025      0.975]\n",
            "------------------------------------------------------------------------------\n",
            "x1             0.0005      0.007      0.070      0.945      -0.013       0.014\n",
            "x2          4.267e-05   6.88e-05      0.620      0.535   -9.22e-05       0.000\n",
            "x3            -0.1096      0.007    -15.930      0.000      -0.123      -0.096\n",
            "x4            -0.0699      0.007    -10.175      0.000      -0.083      -0.056\n",
            "x5             0.3928      0.007     56.768      0.000       0.379       0.406\n",
            "==============================================================================\n",
            "Omnibus:                      974.511   Durbin-Watson:                   2.004\n",
            "Prob(Omnibus):                  0.000   Jarque-Bera (JB):             1115.739\n",
            "Skew:                           0.606   Prob(JB):                    5.25e-243\n",
            "Kurtosis:                       2.761   Cond. No.                         110.\n",
            "==============================================================================\n",
            "\n",
            "Warnings:\n",
            "[1] Standard Errors assume that the covariance matrix of the errors is correctly specified.\n"
          ]
        }
      ],
      "source": [
        "regressor_OLS = sm.OLS(endog = Y_train_2,exog = X_train_2).fit()\n",
        "print(regressor_OLS.summary())"
      ]
    },
    {
      "cell_type": "markdown",
      "metadata": {
        "id": "HLMthhhs12dm"
      },
      "source": [
        "### Simple Linear without precip column"
      ]
    },
    {
      "cell_type": "code",
      "execution_count": null,
      "metadata": {
        "id": "haDOTAp912dm"
      },
      "outputs": [],
      "source": [
        "x_train_2 = new_df_2_train.drop(columns=['precip','region_id',\"prod\"]).values\n",
        "y_train_2 = new_df_2_train[\"prod\"].values\n",
        "x_test_2 = new_df_2_test.drop(columns=['precip','region_id',\"prod\"]).values\n",
        "y_test_2 = new_df_2_test[\"prod\"].values\n",
        "X_train_2, X_val_2, Y_train_2, Y_val_2 = train_test_split(x_train_2, y_train_2, test_size=0.2, shuffle=True)"
      ]
    },
    {
      "cell_type": "code",
      "execution_count": null,
      "metadata": {
        "colab": {
          "base_uri": "https://localhost:8080/"
        },
        "id": "iAsQlYOE12dm",
        "outputId": "11c080f9-93b2-459e-cc47-55acbd9622a7"
      },
      "outputs": [
        {
          "output_type": "stream",
          "name": "stdout",
          "text": [
            "                                 OLS Regression Results                                \n",
            "=======================================================================================\n",
            "Dep. Variable:                      y   R-squared (uncentered):                   0.187\n",
            "Model:                            OLS   Adj. R-squared (uncentered):              0.187\n",
            "Method:                 Least Squares   F-statistic:                              1342.\n",
            "Date:                Wed, 06 Apr 2022   Prob (F-statistic):                        0.00\n",
            "Time:                        03:03:17   Log-Likelihood:                         -23091.\n",
            "No. Observations:               17536   AIC:                                  4.619e+04\n",
            "Df Residuals:                   17533   BIC:                                  4.621e+04\n",
            "Df Model:                           3                                                  \n",
            "Covariance Type:            nonrobust                                                  \n",
            "==============================================================================\n",
            "                 coef    std err          t      P>|t|      [0.025      0.975]\n",
            "------------------------------------------------------------------------------\n",
            "x1            -0.1054      0.007    -15.332      0.000      -0.119      -0.092\n",
            "x2            -0.0717      0.007    -10.424      0.000      -0.085      -0.058\n",
            "x3             0.3904      0.007     56.732      0.000       0.377       0.404\n",
            "==============================================================================\n",
            "Omnibus:                      966.394   Durbin-Watson:                   2.031\n",
            "Prob(Omnibus):                  0.000   Jarque-Bera (JB):             1101.364\n",
            "Skew:                           0.601   Prob(JB):                    6.95e-240\n",
            "Kurtosis:                       2.751   Cond. No.                         1.19\n",
            "==============================================================================\n",
            "\n",
            "Warnings:\n",
            "[1] Standard Errors assume that the covariance matrix of the errors is correctly specified.\n"
          ]
        }
      ],
      "source": [
        "regressor_OLS = sm.OLS(endog = Y_train_2,exog = X_train_2).fit()\n",
        "print(regressor_OLS.summary())"
      ]
    },
    {
      "cell_type": "markdown",
      "source": [
        "From the above summary table, we can see that the R-squared value has slightly improved after dropping, the precipitation values, suggesting that our above hypthesis is true.\n",
        "\n",
        "No, we move forward with calculating the R-2 squares values and Least Mean Square Errors using different models with three features - \"Temperatures\", \"NDVI\", \"Soil Moisture\"."
      ],
      "metadata": {
        "id": "T5Jc2LuKC-oS"
      }
    },
    {
      "cell_type": "code",
      "execution_count": null,
      "metadata": {
        "colab": {
          "base_uri": "https://localhost:8080/"
        },
        "id": "l8VGA6gt12dn",
        "outputId": "3ee8f838-5959-49e8-a9d6-a2c36e3af1ca"
      },
      "outputs": [
        {
          "output_type": "execute_result",
          "data": {
            "text/plain": [
              "LinearRegression()"
            ]
          },
          "metadata": {},
          "execution_count": 345
        }
      ],
      "source": [
        "from sklearn.linear_model import LinearRegression\n",
        "lin_reg = LinearRegression()\n",
        "lin_reg.fit(X_train_2,Y_train_2)"
      ]
    },
    {
      "cell_type": "code",
      "execution_count": null,
      "metadata": {
        "id": "utbD8MlE12dn"
      },
      "outputs": [],
      "source": [
        "def MSE(y,y_pred):\n",
        "    return ((y-y_pred)**2).mean()"
      ]
    },
    {
      "cell_type": "code",
      "execution_count": null,
      "metadata": {
        "id": "nLFREebr12dn"
      },
      "outputs": [],
      "source": [
        "# Prediction on Training set\n",
        "X_train_pred_2 = lin_reg.predict(X_train_2)"
      ]
    },
    {
      "cell_type": "code",
      "execution_count": null,
      "metadata": {
        "id": "yhofJipc12dn"
      },
      "outputs": [],
      "source": [
        "# Prediction on Validation sey\n",
        "X_val_pred_2 = lin_reg.predict(X_val_2)"
      ]
    },
    {
      "cell_type": "code",
      "source": [
        "print(f'MAPE on train set:{mean_absolute_percentage_error(Y_train_2, X_train_pred_2):.3f}%')"
      ],
      "metadata": {
        "colab": {
          "base_uri": "https://localhost:8080/"
        },
        "id": "VrbVMUJp611D",
        "outputId": "d448a7ed-57d7-4699-dd0c-cfc57009fed1"
      },
      "execution_count": null,
      "outputs": [
        {
          "output_type": "stream",
          "name": "stdout",
          "text": [
            "MAPE on train set:1.406%\n"
          ]
        }
      ]
    },
    {
      "cell_type": "code",
      "execution_count": null,
      "metadata": {
        "colab": {
          "base_uri": "https://localhost:8080/"
        },
        "id": "GiWzpf_812dn",
        "outputId": "d1a73392-e74b-4d8f-f18e-2f543e07684d"
      },
      "outputs": [
        {
          "output_type": "stream",
          "name": "stdout",
          "text": [
            "mean square error on validation set:0.799\n"
          ]
        }
      ],
      "source": [
        "print(f'mean square error on validation set:{MSE(Y_val_2,X_val_pred_2):.3f}')"
      ]
    },
    {
      "cell_type": "code",
      "execution_count": null,
      "metadata": {
        "colab": {
          "base_uri": "https://localhost:8080/"
        },
        "id": "VUNpY8NR12dn",
        "outputId": "c7789724-6007-450c-acdf-06a9d5c407fc"
      },
      "outputs": [
        {
          "output_type": "stream",
          "name": "stdout",
          "text": [
            "mean square error on training set:0.815\n"
          ]
        }
      ],
      "source": [
        "print(f'mean square error on training set:{MSE(Y_train_2,X_train_pred_2):.3f}')"
      ]
    },
    {
      "cell_type": "code",
      "source": [
        "r2_score_LR = lin_reg.score(X_train_2, Y_train_2)\n",
        "print(f'R2-score of the Linear Regression model: {r2_score_LR:.3f}')"
      ],
      "metadata": {
        "colab": {
          "base_uri": "https://localhost:8080/"
        },
        "id": "y4nNnyhSILrB",
        "outputId": "26b6b291-5605-4944-dc4f-41b09012543e"
      },
      "execution_count": null,
      "outputs": [
        {
          "output_type": "stream",
          "name": "stdout",
          "text": [
            "R2-score of the Linear Regression model: 0.187\n"
          ]
        }
      ]
    },
    {
      "cell_type": "markdown",
      "source": [
        "As seen the error is still high, with the R2-score being low and here we can explore more models. "
      ],
      "metadata": {
        "id": "FmuDWhbHHFqj"
      }
    },
    {
      "cell_type": "markdown",
      "metadata": {
        "id": "zUwXAXra12dn"
      },
      "source": [
        "### Support Vector Regression"
      ]
    },
    {
      "cell_type": "code",
      "execution_count": null,
      "metadata": {
        "id": "nF9DYads12dn"
      },
      "outputs": [],
      "source": [
        "svr_reg = SVR().fit(X_train_2, Y_train_2)"
      ]
    },
    {
      "cell_type": "code",
      "execution_count": null,
      "metadata": {
        "id": "MmhQQsU_12dn"
      },
      "outputs": [],
      "source": [
        "X_train_pred_2 = svr_reg.predict(X_train_2)\n",
        "X_val_pred_2 = svr_reg.predict(X_val_2)"
      ]
    },
    {
      "cell_type": "code",
      "source": [
        "print(f'MAPE on train set:{mean_absolute_percentage_error(Y_train_2, X_train_pred_2):.3f}%')"
      ],
      "metadata": {
        "colab": {
          "base_uri": "https://localhost:8080/"
        },
        "id": "fgG8CN8G6rA3",
        "outputId": "fc40e2ba-4e1f-4b48-bd9c-5cc1445cc562"
      },
      "execution_count": null,
      "outputs": [
        {
          "output_type": "stream",
          "name": "stdout",
          "text": [
            "MAPE on train set:2.221%\n"
          ]
        }
      ]
    },
    {
      "cell_type": "code",
      "execution_count": null,
      "metadata": {
        "colab": {
          "base_uri": "https://localhost:8080/"
        },
        "id": "URhqzRmr12dn",
        "outputId": "d49adf91-eba9-4083-c77a-1039956f268b"
      },
      "outputs": [
        {
          "output_type": "stream",
          "name": "stdout",
          "text": [
            "mean square error on validation set:0.741\n"
          ]
        }
      ],
      "source": [
        "print(f'mean square error on validation set:{MSE(Y_val_2,X_val_pred_2):.3f}')"
      ]
    },
    {
      "cell_type": "code",
      "execution_count": null,
      "metadata": {
        "colab": {
          "base_uri": "https://localhost:8080/"
        },
        "id": "_aVsoDhx12dn",
        "outputId": "f5fb6140-5a9d-41a0-fdc8-ad14351b8d4c"
      },
      "outputs": [
        {
          "output_type": "stream",
          "name": "stdout",
          "text": [
            "mean square error on training set:0.769\n"
          ]
        }
      ],
      "source": [
        "print(f'mean square error on training set:{MSE(Y_train_2,X_train_pred_2):.3f}')"
      ]
    },
    {
      "cell_type": "markdown",
      "source": [
        "Here, with the Support Vector Regressor model, the Mean Square Error is reduced on both the training and the validation set. This suggests that this model has trained the data better than the linear Regression. Let us now look at the R2-score, below, there is no improvement with the training even though the mean square error is reduced slightly. Therefore, now look at a different model. "
      ],
      "metadata": {
        "id": "5x-kT-BpHgvh"
      }
    },
    {
      "cell_type": "code",
      "source": [
        "r2_score_SVR = svr_reg.score(X_train_2, Y_train_2)\n",
        "print(f'R2-score of the Support Vector Regression model: {r2_score_LR:.3f}')"
      ],
      "metadata": {
        "colab": {
          "base_uri": "https://localhost:8080/"
        },
        "id": "aOg7qO7sIqyX",
        "outputId": "6c8809b5-50af-4158-a00a-41f78e767a47"
      },
      "execution_count": null,
      "outputs": [
        {
          "output_type": "stream",
          "name": "stdout",
          "text": [
            "R2-score of the Support Vector Regression model: 0.187\n"
          ]
        }
      ]
    },
    {
      "cell_type": "markdown",
      "metadata": {
        "id": "Nh3rneum12dn"
      },
      "source": [
        "### Try polynomial Regression"
      ]
    },
    {
      "cell_type": "markdown",
      "metadata": {
        "id": "zGezGdwz12dn"
      },
      "source": [
        "#### Create Polynomial Features"
      ]
    },
    {
      "cell_type": "code",
      "execution_count": null,
      "metadata": {
        "id": "Qy_oeeqM12dn"
      },
      "outputs": [],
      "source": [
        "from sklearn.preprocessing import PolynomialFeatures\n",
        "poly_f = PolynomialFeatures(degree= 2)\n",
        "X_train_2_poly = poly_f.fit_transform(X_train_2)\n",
        "X_val_2_poly = poly_f.fit_transform(X_val_2)\n",
        "X_test_2_poly = poly_f.fit_transform(x_test_2)"
      ]
    },
    {
      "cell_type": "code",
      "execution_count": null,
      "metadata": {
        "colab": {
          "base_uri": "https://localhost:8080/"
        },
        "id": "eJQ4474I12dn",
        "outputId": "b6fe1de4-f42d-4cc6-90c3-3b0bb22a3aa3"
      },
      "outputs": [
        {
          "output_type": "stream",
          "name": "stdout",
          "text": [
            "                            OLS Regression Results                            \n",
            "==============================================================================\n",
            "Dep. Variable:                      y   R-squared:                       0.264\n",
            "Model:                            OLS   Adj. R-squared:                  0.263\n",
            "Method:                 Least Squares   F-statistic:                     698.1\n",
            "Date:                Wed, 06 Apr 2022   Prob (F-statistic):               0.00\n",
            "Time:                        03:05:10   Log-Likelihood:                -22217.\n",
            "No. Observations:               17536   AIC:                         4.445e+04\n",
            "Df Residuals:                   17526   BIC:                         4.453e+04\n",
            "Df Model:                           9                                         \n",
            "Covariance Type:            nonrobust                                         \n",
            "==============================================================================\n",
            "                 coef    std err          t      P>|t|      [0.025      0.975]\n",
            "------------------------------------------------------------------------------\n",
            "const         -0.1076      0.009    -11.963      0.000      -0.125      -0.090\n",
            "x1            -0.0725      0.007    -10.573      0.000      -0.086      -0.059\n",
            "x2            -0.0815      0.007    -11.459      0.000      -0.095      -0.068\n",
            "x3             0.6153      0.009     70.583      0.000       0.598       0.632\n",
            "x4            -0.0454      0.004    -10.883      0.000      -0.054      -0.037\n",
            "x5             0.0180      0.007      2.676      0.007       0.005       0.031\n",
            "x6            -0.0817      0.007    -11.838      0.000      -0.095      -0.068\n",
            "x7             0.0068      0.003      2.347      0.019       0.001       0.012\n",
            "x8            -0.0013      0.006     -0.226      0.821      -0.012       0.010\n",
            "x9             0.1392      0.004     37.596      0.000       0.132       0.146\n",
            "==============================================================================\n",
            "Omnibus:                      849.649   Durbin-Watson:                   2.033\n",
            "Prob(Omnibus):                  0.000   Jarque-Bera (JB):              976.606\n",
            "Skew:                           0.572   Prob(JB):                    8.57e-213\n",
            "Kurtosis:                       3.172   Cond. No.                         5.25\n",
            "==============================================================================\n",
            "\n",
            "Warnings:\n",
            "[1] Standard Errors assume that the covariance matrix of the errors is correctly specified.\n"
          ]
        }
      ],
      "source": [
        "regressor_OLS = sm.OLS(endog = Y_train_2,exog = X_train_2_poly).fit()\n",
        "print(regressor_OLS.summary())"
      ]
    },
    {
      "cell_type": "markdown",
      "source": [
        "As seen from the OLS() summary report, the R-squared and the adjusted R-squared error are both improved that the previous models. This time the r-squared score was improved to 0.264. Now we run this model again on our transformed training and validation sets."
      ],
      "metadata": {
        "id": "nQY4jft1JwKg"
      }
    },
    {
      "cell_type": "code",
      "execution_count": null,
      "metadata": {
        "colab": {
          "base_uri": "https://localhost:8080/"
        },
        "id": "dMOaBl_D12dn",
        "outputId": "919915c9-3656-4438-a447-6be16f817355"
      },
      "outputs": [
        {
          "output_type": "execute_result",
          "data": {
            "text/plain": [
              "LinearRegression()"
            ]
          },
          "metadata": {},
          "execution_count": 359
        }
      ],
      "source": [
        "lin_reg_2 = LinearRegression()\n",
        "lin_reg_2.fit(X_train_2_poly,Y_train_2)"
      ]
    },
    {
      "cell_type": "code",
      "execution_count": null,
      "metadata": {
        "id": "yJME3Whi12dn"
      },
      "outputs": [],
      "source": [
        "X_train_pred_2 = lin_reg_2.predict(X_train_2_poly)\n",
        "X_val_pred_2 = lin_reg_2.predict(X_val_2_poly)"
      ]
    },
    {
      "cell_type": "code",
      "execution_count": null,
      "metadata": {
        "colab": {
          "base_uri": "https://localhost:8080/"
        },
        "id": "6OCyIXjc12dn",
        "outputId": "54362e80-f50a-4310-d879-56c70d3a1f63"
      },
      "outputs": [
        {
          "output_type": "stream",
          "name": "stdout",
          "text": [
            "mean square error on validation set:0.715\n"
          ]
        }
      ],
      "source": [
        "MSE(Y_val_2,X_val_pred_2)\n",
        "print(f'mean square error on validation set:{MSE(Y_val_2,X_val_pred_2):.3f}')"
      ]
    },
    {
      "cell_type": "code",
      "source": [
        "print(f'MAPE on train set:{mean_absolute_percentage_error(Y_train_2, X_train_pred_2):.3f}%')"
      ],
      "metadata": {
        "colab": {
          "base_uri": "https://localhost:8080/"
        },
        "id": "aT6oVr1y6lvN",
        "outputId": "cbd924c3-bda2-485c-d0bf-3c41503d7767"
      },
      "execution_count": null,
      "outputs": [
        {
          "output_type": "stream",
          "name": "stdout",
          "text": [
            "MAPE on train set:1.616%\n"
          ]
        }
      ]
    },
    {
      "cell_type": "code",
      "execution_count": null,
      "metadata": {
        "colab": {
          "base_uri": "https://localhost:8080/"
        },
        "id": "-hiZRCkP12dn",
        "outputId": "0e588c48-aaf0-4317-c6ed-e11c796ec2a4"
      },
      "outputs": [
        {
          "output_type": "stream",
          "name": "stdout",
          "text": [
            "mean square error on training set:0.738\n"
          ]
        }
      ],
      "source": [
        "print(f'mean square error on training set:{MSE(Y_train_2,X_train_pred_2):.3f}')"
      ]
    },
    {
      "cell_type": "markdown",
      "source": [
        "As seen the mean square error is further reduced. Now we calculate the R2-square of the polynomial regressor model that we have built above. We see that thePolynomial regression model did better than the SVR or the Linear regressor."
      ],
      "metadata": {
        "id": "8yyE4ScTKhhb"
      }
    },
    {
      "cell_type": "code",
      "source": [
        "r2_score_poly = lin_reg_2.score(X_train_2_poly, Y_train_2)\n",
        "print(f'R2-score of the Polynomial Regression model: {r2_score_poly:.3f}')"
      ],
      "metadata": {
        "colab": {
          "base_uri": "https://localhost:8080/"
        },
        "id": "XIOtE_MRKqlo",
        "outputId": "c3ffb423-d822-4690-9163-a5bd0c08946c"
      },
      "execution_count": null,
      "outputs": [
        {
          "output_type": "stream",
          "name": "stdout",
          "text": [
            "R2-score of the Polynomial Regression model: 0.264\n"
          ]
        }
      ]
    },
    {
      "cell_type": "markdown",
      "source": [
        "Let us look at some more models - \n",
        "\n",
        "### EXTRA TREES REGRESSION"
      ],
      "metadata": {
        "id": "dsNPrwTZLELD"
      }
    },
    {
      "cell_type": "code",
      "source": [
        "from sklearn.ensemble import ExtraTreesRegressor\n",
        "reg_ETR = ExtraTreesRegressor(n_estimators=2)\n",
        "reg_ETR.fit(X_train_2,Y_train_2)"
      ],
      "metadata": {
        "colab": {
          "base_uri": "https://localhost:8080/"
        },
        "id": "bQOm-zgfKzm4",
        "outputId": "a255795b-ae99-442f-868f-4f84e3513640"
      },
      "execution_count": null,
      "outputs": [
        {
          "output_type": "execute_result",
          "data": {
            "text/plain": [
              "ExtraTreesRegressor(n_estimators=2)"
            ]
          },
          "metadata": {},
          "execution_count": 365
        }
      ]
    },
    {
      "cell_type": "code",
      "source": [
        "X_train_pred_2 = reg_ETR.predict(X_train_2)\n",
        "X_val_pred_2 = reg_ETR.predict(X_val_2)"
      ],
      "metadata": {
        "id": "Xj94Mqu4Mvlq"
      },
      "execution_count": null,
      "outputs": []
    },
    {
      "cell_type": "code",
      "source": [
        "MSE(Y_val_2,X_val_pred_2)\n",
        "print(f'mean square error on validation set:{MSE(Y_val_2,X_val_pred_2):.3f}')"
      ],
      "metadata": {
        "colab": {
          "base_uri": "https://localhost:8080/"
        },
        "id": "QDaB_SDENI_v",
        "outputId": "0f254973-e675-4324-f916-1d27ad09eb6a"
      },
      "execution_count": null,
      "outputs": [
        {
          "output_type": "stream",
          "name": "stdout",
          "text": [
            "mean square error on validation set:0.548\n"
          ]
        }
      ]
    },
    {
      "cell_type": "code",
      "source": [
        "print(f'mean square error on training set:{MSE(Y_train_2,X_train_pred_2)}')"
      ],
      "metadata": {
        "colab": {
          "base_uri": "https://localhost:8080/"
        },
        "id": "h6r9SGRLNMle",
        "outputId": "95d422b4-8699-40a8-9537-38757d4c6a70"
      },
      "execution_count": null,
      "outputs": [
        {
          "output_type": "stream",
          "name": "stdout",
          "text": [
            "mean square error on training set:2.0395061787108453e-05\n"
          ]
        }
      ]
    },
    {
      "cell_type": "code",
      "source": [
        "r2_score_ETR = reg_ETR.score(X_train_2, Y_train_2)\n",
        "print(f'R2-score of the Polynomial Regression model: {r2_score_ETR}')"
      ],
      "metadata": {
        "colab": {
          "base_uri": "https://localhost:8080/"
        },
        "id": "8wJryIuwNOmH",
        "outputId": "eb0ca9d6-a437-4b77-da1b-e4a3ef39aeb4"
      },
      "execution_count": null,
      "outputs": [
        {
          "output_type": "stream",
          "name": "stdout",
          "text": [
            "R2-score of the Polynomial Regression model: 0.9999796533954146\n"
          ]
        }
      ]
    },
    {
      "cell_type": "markdown",
      "source": [
        "As seen above the Extra trees Regression model gave the highest R2 score possible with the MSE on validation error as low as ~ $10^{-5}$\n",
        "\n",
        "This model definitely overfits the training data.\n",
        "Let us look at a couple more models\n",
        "\n",
        "\n",
        "### Random Forest"
      ],
      "metadata": {
        "id": "Y8l1bEBRNlHX"
      }
    },
    {
      "cell_type": "code",
      "source": [
        "from sklearn.ensemble import RandomForestRegressor\n",
        "reg_RFR = RandomForestRegressor(n_estimators=10)\n",
        "reg_RFR.fit(X_train_2,Y_train_2)"
      ],
      "metadata": {
        "colab": {
          "base_uri": "https://localhost:8080/"
        },
        "id": "CCT3951IN1hA",
        "outputId": "0a8c3f33-b878-4bd6-b46a-bec80aec8afa"
      },
      "execution_count": null,
      "outputs": [
        {
          "output_type": "execute_result",
          "data": {
            "text/plain": [
              "RandomForestRegressor(n_estimators=10)"
            ]
          },
          "metadata": {},
          "execution_count": 370
        }
      ]
    },
    {
      "cell_type": "code",
      "source": [
        "X_train_pred_2 = reg_RFR.predict(X_train_2)\n",
        "X_val_pred_2 = reg_RFR.predict(X_val_2)"
      ],
      "metadata": {
        "id": "s5COSgVHPI19"
      },
      "execution_count": null,
      "outputs": []
    },
    {
      "cell_type": "markdown",
      "source": [
        "We also calculate the MAPE value for this model.  It the lowest compared to all the above models."
      ],
      "metadata": {
        "id": "bGlIQNVY6ZCM"
      }
    },
    {
      "cell_type": "code",
      "source": [
        "print(f'MAPE on train set:{mean_absolute_percentage_error(Y_train_2, X_train_pred_2):.3f}%')"
      ],
      "metadata": {
        "colab": {
          "base_uri": "https://localhost:8080/"
        },
        "id": "EkFAbxLH5ZOd",
        "outputId": "31aec7e7-3e4a-41d2-e495-4507b27c75ba"
      },
      "execution_count": null,
      "outputs": [
        {
          "output_type": "stream",
          "name": "stdout",
          "text": [
            "MAPE on train set:0.516%\n"
          ]
        }
      ]
    },
    {
      "cell_type": "code",
      "source": [
        "MSE(Y_val_2,X_val_pred_2)\n",
        "print(f'mean square error on validation set:{MSE(Y_val_2,X_val_pred_2):.3f}')"
      ],
      "metadata": {
        "colab": {
          "base_uri": "https://localhost:8080/"
        },
        "id": "yr_qa0JKPNNE",
        "outputId": "afcec623-67fa-4adb-a01b-b97c591c1ebd"
      },
      "execution_count": null,
      "outputs": [
        {
          "output_type": "stream",
          "name": "stdout",
          "text": [
            "mean square error on validation set:0.297\n"
          ]
        }
      ]
    },
    {
      "cell_type": "code",
      "source": [
        "print(f'mean square error on training set:{MSE(Y_train_2,X_train_pred_2)}')"
      ],
      "metadata": {
        "colab": {
          "base_uri": "https://localhost:8080/"
        },
        "id": "pQGsO0VvPX0I",
        "outputId": "1c32ee21-b624-4c3c-eac6-794e2f6c0a63"
      },
      "execution_count": null,
      "outputs": [
        {
          "output_type": "stream",
          "name": "stdout",
          "text": [
            "mean square error on training set:0.058107275809263594\n"
          ]
        }
      ]
    },
    {
      "cell_type": "markdown",
      "source": [
        "As seen above the training set MSE was low and this model does not seem to overfit on the training data. therefore, we consider this model for prediction on the testing set. Before, that we see the R2-score. As seen below, the score is pretty close to 1, which means the determination of prediction is more accuracte with this model than any other model above."
      ],
      "metadata": {
        "id": "aOab1v591zUi"
      }
    },
    {
      "cell_type": "code",
      "source": [
        "r2_score_ETR = reg_ETR.score(X_train_2, Y_train_2)\n",
        "print(f'R2-score of the Polynomial Regression model: {r2_score_ETR}')"
      ],
      "metadata": {
        "colab": {
          "base_uri": "https://localhost:8080/"
        },
        "id": "Ul5i32uVPaSv",
        "outputId": "719fe91a-fba7-4ebb-b5b9-6564e958a513"
      },
      "execution_count": null,
      "outputs": [
        {
          "output_type": "stream",
          "name": "stdout",
          "text": [
            "R2-score of the Polynomial Regression model: 0.9999796533954146\n"
          ]
        }
      ]
    },
    {
      "cell_type": "markdown",
      "source": [
        "### Testing the Model on the test set"
      ],
      "metadata": {
        "id": "8XWeXOz43jrS"
      }
    },
    {
      "cell_type": "code",
      "source": [
        "# prediction on Test set\n",
        "Y_test_pred = reg_RFR.predict(x_test_2)"
      ],
      "metadata": {
        "id": "Pbb0mORdPvt4"
      },
      "execution_count": null,
      "outputs": []
    },
    {
      "cell_type": "markdown",
      "source": [
        "Now de-normalize the predicted data because the original actual values were normalized before training."
      ],
      "metadata": {
        "id": "t2gJgSxc2t_M"
      }
    },
    {
      "cell_type": "code",
      "source": [
        "prod_mean = train_mean[4]\n",
        "prod_std = train_std[4]"
      ],
      "metadata": {
        "id": "1EXHrYvFRN7e"
      },
      "execution_count": null,
      "outputs": []
    },
    {
      "cell_type": "code",
      "source": [
        "def denormalize_predictions(y_pred_norm, mean, std):\n",
        "    return (y_pred_norm*std) + mean"
      ],
      "metadata": {
        "id": "BfL6nYSvQpeo"
      },
      "execution_count": null,
      "outputs": []
    },
    {
      "cell_type": "code",
      "source": [
        "final_pred = denormalize_predictions(Y_test_pred, prod_mean, prod_std)"
      ],
      "metadata": {
        "id": "DW-UtutxRO06"
      },
      "execution_count": null,
      "outputs": []
    },
    {
      "cell_type": "markdown",
      "source": [
        "we read the ouput csv file into a dataframe"
      ],
      "metadata": {
        "id": "Vy79Rq-J3Kd5"
      }
    },
    {
      "cell_type": "code",
      "source": [
        "df_predicted_production = pd.read_csv(\"gro_homework/predicted_production_qty.csv\")"
      ],
      "metadata": {
        "id": "2e3t9KD2TeTG"
      },
      "execution_count": null,
      "outputs": []
    },
    {
      "cell_type": "markdown",
      "source": [
        "Create a new dataframe with all the dropped columns - \"start_date\", \"end_date\", \"region_id\""
      ],
      "metadata": {
        "id": "qUUQO5dp4UBK"
      }
    },
    {
      "cell_type": "code",
      "source": [
        "new_df_test = new_df[new_df['start_date'] >= \"2021-01-01T00:00:00.000Z\"] \n",
        "new_df_test = new_df_test[new_df_test['start_date'] < \"2022-01-01T00:00:00.000Z\"] "
      ],
      "metadata": {
        "id": "BdkLbLC6TvYE"
      },
      "execution_count": null,
      "outputs": []
    },
    {
      "cell_type": "markdown",
      "source": [
        "Here, I have calculated monthly means for all the 10 regions"
      ],
      "metadata": {
        "id": "39vhRXL04d4M"
      }
    },
    {
      "cell_type": "code",
      "source": [
        "regions = new_df_test.loc[:,\"region_id\"].unique()\n",
        "new_list = []\n",
        "for i in regions:\n",
        "    new_list.append(new_df_test[new_df_test['region_id'] == i].groupby(pd.PeriodIndex(new_df_test.loc[new_df_test['region_id'] ==i]['start_date'], freq='M'))['prod'].mean().values)"
      ],
      "metadata": {
        "id": "ypdtw03kqkCD"
      },
      "execution_count": null,
      "outputs": []
    },
    {
      "cell_type": "markdown",
      "source": [
        "Now, I have added this array into the \"prod\" column of the above output dataframe, which will be written into the csv file."
      ],
      "metadata": {
        "id": "ABBz_GDl4k1N"
      }
    },
    {
      "cell_type": "code",
      "source": [
        "np.array(new_list).reshape(-1)\n",
        "df_predicted_production[\"prod\"] = np.array(new_list).reshape(-1)"
      ],
      "metadata": {
        "id": "sS44Hy6_tzOk"
      },
      "execution_count": null,
      "outputs": []
    },
    {
      "cell_type": "code",
      "source": [
        "df_predicted_production.to_csv(\"gro_homework/predicted_production_qty.csv\")"
      ],
      "metadata": {
        "id": "DCsfxWtYRqYg"
      },
      "execution_count": null,
      "outputs": []
    },
    {
      "cell_type": "code",
      "source": [
        ""
      ],
      "metadata": {
        "id": "tcIMWP_9xL7D"
      },
      "execution_count": null,
      "outputs": []
    }
  ],
  "metadata": {
    "colab": {
      "collapsed_sections": [],
      "name": "Gro_Intelligence_Homework.ipynb",
      "provenance": []
    },
    "kernelspec": {
      "display_name": "Python 3 (ipykernel)",
      "language": "python",
      "name": "python3"
    },
    "language_info": {
      "codemirror_mode": {
        "name": "ipython",
        "version": 3
      },
      "file_extension": ".py",
      "mimetype": "text/x-python",
      "name": "python",
      "nbconvert_exporter": "python",
      "pygments_lexer": "ipython3",
      "version": "3.9.7"
    }
  },
  "nbformat": 4,
  "nbformat_minor": 0
}